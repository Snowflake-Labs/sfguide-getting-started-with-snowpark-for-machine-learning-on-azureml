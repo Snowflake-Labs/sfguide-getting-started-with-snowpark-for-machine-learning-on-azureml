{
  "cells": [
    {
      "cell_type": "markdown",
      "metadata": {
        "nteract": {
          "transient": {
            "deleting": false
          }
        }
      },
      "source": [
        "CONNECT"
      ]
    },
    {
      "cell_type": "code",
      "execution_count": null,
      "metadata": {},
      "outputs": [],
      "source": [
        "# for a quicker set up ignore the step in the quickstart where you create a Snowflake environment, uncomment the below code and install the libraries provided\n",
        "# there may be some errors about the datasets package but the lab should still run regardless\n",
        "# !pip install snowflake pandas notebook scikit-learn cachetools pyarrow==10.0.1 snowflake-ml-python"
      ]
    },
    {
      "cell_type": "code",
      "execution_count": 5,
      "metadata": {
        "gather": {
          "logged": 1681394992901
        },
        "jupyter": {
          "outputs_hidden": false,
          "source_hidden": false
        },
        "nteract": {
          "transient": {
            "deleting": false
          }
        }
      },
      "outputs": [],
      "source": [
        "import pandas as pd\n",
        "from snowflake.snowpark.session import Session\n",
        "from snowflake.snowpark.functions import *\n",
        "from snowflake.snowpark.types import *\n",
        "\n",
        "connection_parameters = {\n",
        "    \"account\": \"\",\n",
        "    \"user\": \"\", \n",
        "    \"host\": \"\", # e.g. \"sn00111.snowflakecomputing.com\",\n",
        "    \"password\": \"\",\n",
        "    \"role\": \"ACCOUNTADMIN\",\n",
        "    \"warehouse\": \"SMALL_WH\",\n",
        "    \"database\":\"HOL_DB\",\n",
        "    \"schema\":\"PUBLIC\"\n",
        "    }\n",
        "session = Session.builder.configs(connection_parameters).create()"
      ]
    },
    {
      "cell_type": "code",
      "execution_count": 6,
      "metadata": {
        "gather": {
          "logged": 1681394996025
        },
        "jupyter": {
          "outputs_hidden": false,
          "source_hidden": false
        },
        "nteract": {
          "transient": {
            "deleting": false
          }
        }
      },
      "outputs": [],
      "source": [
        "# Loading from local CSV-files\n",
        "city_udi_df = pd.read_csv('city_udi.csv')\n",
        "humidity_df = pd.read_csv('humidity.csv')\n",
        "maintenance_df = pd.read_csv('maintenance.csv')"
      ]
    },
    {
      "cell_type": "markdown",
      "metadata": {
        "nteract": {
          "transient": {
            "deleting": false
          }
        }
      },
      "source": [
        "LOAD"
      ]
    },
    {
      "cell_type": "code",
      "execution_count": 8,
      "metadata": {
        "gather": {
          "logged": 1681395028126
        },
        "jupyter": {
          "outputs_hidden": false,
          "source_hidden": false
        },
        "nteract": {
          "transient": {
            "deleting": false
          }
        }
      },
      "outputs": [
        {
          "data": {
            "text/plain": [
              "<snowflake.snowpark.table.Table at 0x7f9b30aa8a90>"
            ]
          },
          "execution_count": 8,
          "metadata": {},
          "output_type": "execute_result"
        }
      ],
      "source": [
        "# Upload to Snowflake\n",
        "session.write_pandas(city_udi_df, table_name='CITY_UDF', auto_create_table=True, overwrite=True)\n",
        "session.write_pandas(humidity_df, table_name='HUMIDITY', auto_create_table=True, overwrite=True)\n",
        "session.write_pandas(maintenance_df, table_name='MAINTENANCE', auto_create_table=True, overwrite=True)"
      ]
    },
    {
      "cell_type": "code",
      "execution_count": null,
      "metadata": {
        "jupyter": {
          "outputs_hidden": false,
          "source_hidden": false
        },
        "nteract": {
          "transient": {
            "deleting": false
          }
        }
      },
      "outputs": [],
      "source": []
    }
  ],
  "metadata": {
    "kernel_info": {
      "name": "my_env"
    },
    "kernelspec": {
      "display_name": "my_env",
      "language": "python",
      "name": "my_env"
    },
    "language_info": {
      "codemirror_mode": {
        "name": "ipython",
        "version": 3
      },
      "file_extension": ".py",
      "mimetype": "text/x-python",
      "name": "python",
      "nbconvert_exporter": "python",
      "pygments_lexer": "ipython3",
      "version": "3.8.16"
    },
    "microsoft": {
      "host": {
        "AzureML": {
          "notebookHasBeenCompleted": true
        }
      },
      "ms_spell_check": {
        "ms_spell_check_language": "en"
      }
    },
    "nteract": {
      "version": "nteract-front-end@1.0.0"
    }
  },
  "nbformat": 4,
  "nbformat_minor": 2
}
