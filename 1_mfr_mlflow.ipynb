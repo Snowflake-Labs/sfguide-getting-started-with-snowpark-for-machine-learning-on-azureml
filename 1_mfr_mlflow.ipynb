{
  "cells": [
    {
      "cell_type": "markdown",
      "source": [
        "# Connect to Snowflake"
      ],
      "metadata": {
        "nteract": {
          "transient": {
            "deleting": false
          }
        }
      }
    },
    {
      "cell_type": "code",
      "source": [
        "# access data from snowflake\n",
        "import pandas as pd\n",
        "from snowflake.snowpark.session import Session\n",
        "from snowflake.snowpark.functions import *\n",
        "from snowflake.snowpark.types import *\n",
        "\n",
        "connection_parameters = {\n",
        "    \"account\": \"\",\n",
        "    \"user\": \"\", \n",
        "    \"host\": \"\", # e.g. \"sn00111.snowflakecomputing.com\",\n",
        "    \"password\": \"\",\n",
        "    \"role\": \"ACCOUNTADMIN\",\n",
        "    \"warehouse\": \"SMALL_WH\",\n",
        "    \"database\":\"MFR\",\n",
        "    \"schema\":\"PUBLIC\"\n",
        "    }\n",
        "session = Session.builder.configs(connection_parameters).create()\n",
        "\n",
        "maintenance_df = session.table('MFR.PUBLIC.maintenance')\n",
        "humidity_df = session.table('MFR.PUBLIC.Humidity')\n",
        "hum_udi_df = session.table('MFR.PUBLIC.HUMIDITY_UDI')"
      ],
      "outputs": [],
      "execution_count": null,
      "metadata": {
        "jupyter": {
          "source_hidden": false,
          "outputs_hidden": false
        },
        "nteract": {
          "transient": {
            "deleting": false
          }
        },
        "gather": {
          "logged": 1681486046882
        }
      }
    },
    {
      "cell_type": "markdown",
      "source": [
        "# Look at the dataframes"
      ],
      "metadata": {
        "nteract": {
          "transient": {
            "deleting": false
          }
        }
      }
    },
    {
      "cell_type": "code",
      "source": [
        "maintenance_df.to_pandas().head()"
      ],
      "outputs": [],
      "execution_count": null,
      "metadata": {
        "jupyter": {
          "source_hidden": false,
          "outputs_hidden": false
        },
        "nteract": {
          "transient": {
            "deleting": false
          }
        },
        "gather": {
          "logged": 1681485200288
        }
      }
    },
    {
      "cell_type": "code",
      "source": [
        "humidity_df.to_pandas().head()"
      ],
      "outputs": [],
      "execution_count": null,
      "metadata": {
        "jupyter": {
          "source_hidden": false,
          "outputs_hidden": false
        },
        "nteract": {
          "transient": {
            "deleting": false
          }
        },
        "gather": {
          "logged": 1681485200779
        }
      }
    },
    {
      "cell_type": "code",
      "source": [
        "hum_udi_df.to_pandas().head()"
      ],
      "outputs": [],
      "execution_count": null,
      "metadata": {
        "jupyter": {
          "source_hidden": false,
          "outputs_hidden": false
        },
        "nteract": {
          "transient": {
            "deleting": false
          }
        },
        "gather": {
          "logged": 1681485201077
        }
      }
    },
    {
      "cell_type": "code",
      "source": [
        "# join together the dataframes and prepare training dataset\n",
        "maintenance_city = maintenance_df.join(hum_udi_df, [\"UDI\"])\n",
        "maintenance_hum = maintenance_city.join(humidity_df, (maintenance_city.col(\"CITY\") == humidity_df.col(\"CITY_NAME\"))).select(col(\"TYPE\"), \n",
        "col(\"AIR_TEMPERATURE_K\"), col(\"PROCESS_TEMPERATURE\"), col(\"ROTATIONAL_SPEED_RPM\"), col(\"TORQUE_NM\"), col(\"TOOL_WEAR_MIN\"), col(\"HUMIDITY_RELATIVE_AVG\"), col(\"MACHINE_FAILURE\"))"
      ],
      "outputs": [],
      "execution_count": null,
      "metadata": {
        "jupyter": {
          "source_hidden": false,
          "outputs_hidden": false
        },
        "nteract": {
          "transient": {
            "deleting": false
          }
        },
        "gather": {
          "logged": 1681486051846
        }
      }
    },
    {
      "cell_type": "code",
      "source": [
        "# write training set to snowflake and materialize the data frame into a pandas data frame\n",
        "maintenance_hum.write.mode(\"overwrite\").save_as_table(\"MFR.PUBLIC.MAINTENANCE_HUM\")\n",
        "maintenance_hum_df = session.table('MFR.PUBLIC.MAINTENANCE_HUM').to_pandas()"
      ],
      "outputs": [],
      "execution_count": null,
      "metadata": {
        "jupyter": {
          "source_hidden": false,
          "outputs_hidden": false
        },
        "nteract": {
          "transient": {
            "deleting": false
          }
        },
        "gather": {
          "logged": 1681486057205
        }
      }
    },
    {
      "cell_type": "code",
      "source": [
        "# drop column thats not needed\n",
        "maintenance_hum_df = maintenance_hum_df.drop(columns=[\"TYPE\"])"
      ],
      "outputs": [],
      "execution_count": null,
      "metadata": {
        "jupyter": {
          "source_hidden": false,
          "outputs_hidden": false
        },
        "nteract": {
          "transient": {
            "deleting": false
          }
        },
        "gather": {
          "logged": 1681486058286
        }
      }
    },
    {
      "cell_type": "markdown",
      "source": [
        "# Use MLFlow to track jobs and models"
      ],
      "metadata": {
        "nteract": {
          "transient": {
            "deleting": false
          }
        }
      }
    },
    {
      "cell_type": "code",
      "source": [
        "# set up experiment\n",
        "import mlflow\n",
        "mlflow.set_experiment(experiment_name=\"predictive-maintenance\")"
      ],
      "outputs": [],
      "execution_count": null,
      "metadata": {
        "jupyter": {
          "source_hidden": false,
          "outputs_hidden": false
        },
        "nteract": {
          "transient": {
            "deleting": false
          }
        },
        "gather": {
          "logged": 1681486144830
        }
      }
    },
    {
      "cell_type": "markdown",
      "source": [
        "# Split data and train model with mlflow logging"
      ],
      "metadata": {
        "nteract": {
          "transient": {
            "deleting": false
          }
        }
      }
    },
    {
      "cell_type": "code",
      "source": [
        "from sklearn.model_selection import train_test_split\n",
        "X_train, X_test, y_train, y_test = train_test_split(\n",
        "    maintenance_hum_df.drop(\"MACHINE_FAILURE\", axis=1), maintenance_hum_df[\"MACHINE_FAILURE\"], test_size=0.3\n",
        ")"
      ],
      "outputs": [],
      "execution_count": null,
      "metadata": {
        "jupyter": {
          "source_hidden": false,
          "outputs_hidden": false
        },
        "nteract": {
          "transient": {
            "deleting": false
          }
        },
        "gather": {
          "logged": 1681486154408
        }
      }
    },
    {
      "cell_type": "code",
      "source": [
        "from sklearn.ensemble import RandomForestClassifier\n",
        "mlflow.autolog()\n",
        "model = RandomForestClassifier()\n"
      ],
      "outputs": [],
      "execution_count": null,
      "metadata": {
        "jupyter": {
          "source_hidden": false,
          "outputs_hidden": false
        },
        "nteract": {
          "transient": {
            "deleting": false
          }
        },
        "gather": {
          "logged": 1681486156321
        }
      }
    },
    {
      "cell_type": "code",
      "source": [
        "run = mlflow.start_run()"
      ],
      "outputs": [],
      "execution_count": null,
      "metadata": {
        "jupyter": {
          "source_hidden": false,
          "outputs_hidden": false
        },
        "nteract": {
          "transient": {
            "deleting": false
          }
        },
        "gather": {
          "logged": 1681486167050
        }
      }
    },
    {
      "cell_type": "code",
      "source": [
        "model.fit(X_train, y_train)"
      ],
      "outputs": [],
      "execution_count": null,
      "metadata": {
        "jupyter": {
          "source_hidden": false,
          "outputs_hidden": false
        },
        "nteract": {
          "transient": {
            "deleting": false
          }
        },
        "gather": {
          "logged": 1681486179049
        }
      }
    },
    {
      "cell_type": "markdown",
      "source": [
        "# Quick Model Metrics"
      ],
      "metadata": {
        "nteract": {
          "transient": {
            "deleting": false
          }
        }
      }
    },
    {
      "cell_type": "code",
      "source": [
        "y_pred = model.predict(X_test)"
      ],
      "outputs": [],
      "execution_count": null,
      "metadata": {
        "jupyter": {
          "source_hidden": false,
          "outputs_hidden": false
        },
        "nteract": {
          "transient": {
            "deleting": false
          }
        },
        "gather": {
          "logged": 1681486284968
        }
      }
    },
    {
      "cell_type": "code",
      "source": [
        "from sklearn.metrics import accuracy_score, recall_score\n",
        "\n",
        "accuracy = accuracy_score(y_test, y_pred)\n",
        "recall = recall_score(y_test, y_pred)"
      ],
      "outputs": [],
      "execution_count": null,
      "metadata": {
        "jupyter": {
          "source_hidden": false,
          "outputs_hidden": false
        },
        "nteract": {
          "transient": {
            "deleting": false
          }
        },
        "gather": {
          "logged": 1681486287261
        }
      }
    },
    {
      "cell_type": "code",
      "source": [
        "print(\"Accuracy: %.2f%%\" % (accuracy * 100.0))\n",
        "print(\"Recall: %.2f%%\" % (recall * 100.0))"
      ],
      "outputs": [],
      "execution_count": null,
      "metadata": {
        "jupyter": {
          "source_hidden": false,
          "outputs_hidden": false
        },
        "nteract": {
          "transient": {
            "deleting": false
          }
        },
        "gather": {
          "logged": 1681486288906
        }
      }
    },
    {
      "cell_type": "code",
      "source": [
        "mlflow.end_run()"
      ],
      "outputs": [],
      "execution_count": null,
      "metadata": {
        "jupyter": {
          "source_hidden": false,
          "outputs_hidden": false
        },
        "nteract": {
          "transient": {
            "deleting": false
          }
        },
        "gather": {
          "logged": 1681486292059
        }
      }
    },
    {
      "cell_type": "code",
      "source": [
        "run = mlflow.get_run(run.info.run_id)"
      ],
      "outputs": [],
      "execution_count": null,
      "metadata": {
        "jupyter": {
          "source_hidden": false,
          "outputs_hidden": false
        },
        "nteract": {
          "transient": {
            "deleting": false
          }
        },
        "gather": {
          "logged": 1681486294924
        }
      }
    },
    {
      "cell_type": "markdown",
      "source": [
        "# More model metrics"
      ],
      "metadata": {
        "nteract": {
          "transient": {
            "deleting": false
          }
        }
      }
    },
    {
      "cell_type": "code",
      "source": [
        "pd.DataFrame(data=[run.data.params], index=[\"Value\"]).T"
      ],
      "outputs": [],
      "execution_count": null,
      "metadata": {
        "jupyter": {
          "source_hidden": false,
          "outputs_hidden": false
        },
        "nteract": {
          "transient": {
            "deleting": false
          }
        },
        "gather": {
          "logged": 1681486327253
        }
      }
    },
    {
      "cell_type": "code",
      "source": [
        "pd.DataFrame(data=[run.data.metrics], index=[\"Value\"]).T"
      ],
      "outputs": [],
      "execution_count": null,
      "metadata": {
        "jupyter": {
          "source_hidden": false,
          "outputs_hidden": false
        },
        "nteract": {
          "transient": {
            "deleting": false
          }
        },
        "gather": {
          "logged": 1681486328902
        }
      }
    },
    {
      "cell_type": "code",
      "source": [
        "# evaluate model on test\n",
        "from sklearn import metrics\n",
        "from sklearn.metrics import roc_auc_score, roc_curve, RocCurveDisplay\n",
        "import matplotlib.pyplot as plt\n",
        "y_pred = model.predict_proba(X_test)[:,1]\n",
        "fpr, tpr, thresholds = roc_curve(y_test, y_pred)\n",
        "roc_auc = metrics.auc(fpr, tpr)\n",
        "display = metrics.RocCurveDisplay(fpr=fpr, tpr=tpr, roc_auc=roc_auc,\n",
        "                                   estimator_name='example estimator')\n",
        "display.plot()\n",
        "plt.show()"
      ],
      "outputs": [],
      "execution_count": null,
      "metadata": {
        "jupyter": {
          "source_hidden": false,
          "outputs_hidden": false
        },
        "nteract": {
          "transient": {
            "deleting": false
          }
        },
        "gather": {
          "logged": 1681486330069
        }
      }
    },
    {
      "cell_type": "code",
      "source": [
        "# auc score\n",
        "roc_auc_score(y_test, y_pred)"
      ],
      "outputs": [],
      "execution_count": null,
      "metadata": {
        "jupyter": {
          "source_hidden": false,
          "outputs_hidden": false
        },
        "nteract": {
          "transient": {
            "deleting": false
          }
        },
        "gather": {
          "logged": 1681486330937
        }
      }
    },
    {
      "cell_type": "code",
      "source": [
        "from sklearn.inspection import permutation_importance\n",
        "feature_names = ['AIR_TEMPERATURE_K',\n",
        "       'PROCESS_TEMPERATURE', 'ROTATIONAL_SPEED_RPM', 'TORQUE_NM',\n",
        "       'TOOL_WEAR_MIN', 'HUMIDITY_RELATIVE_AVG']\n",
        "result = permutation_importance(\n",
        "    model, X_test, y_test, n_repeats=10, random_state=42, n_jobs=2\n",
        ")\n",
        "\n",
        "forest_importances = pd.Series(result.importances_mean, index=feature_names)\n",
        "fig, ax = plt.subplots()\n",
        "forest_importances.plot.bar(yerr=result.importances_std, ax=ax)\n",
        "ax.set_title(\"Feature importances using permutation on full model\")\n",
        "ax.set_ylabel(\"Mean accuracy decrease\")\n",
        "fig.tight_layout()\n",
        "plt.show()"
      ],
      "outputs": [],
      "execution_count": null,
      "metadata": {
        "jupyter": {
          "source_hidden": false,
          "outputs_hidden": false
        },
        "nteract": {
          "transient": {
            "deleting": false
          }
        },
        "gather": {
          "logged": 1681486336084
        }
      }
    },
    {
      "cell_type": "markdown",
      "source": [
        "# Register training dataset with mlflow runid"
      ],
      "metadata": {
        "nteract": {
          "transient": {
            "deleting": false
          }
        }
      }
    },
    {
      "cell_type": "code",
      "source": [
        "# register dataset\n",
        "from azureml.core import Workspace, Dataset\n",
        "\n",
        "# Connect to the Workspace\n",
        "ws = Workspace.from_config()\n",
        "\n",
        "# The default datastore is a blob storage container where datasets are stored\n",
        "datastore = ws.get_default_datastore()\n",
        "\n",
        "# Register the dataset\n",
        "ds = Dataset.Tabular.register_pandas_dataframe(\n",
        "        dataframe=maintenance_hum_df, \n",
        "        name=run.info.run_id+'maintenance_hum_df', \n",
        "        description='maintenance df for model training',\n",
        "        target=datastore\n",
        "    )"
      ],
      "outputs": [],
      "execution_count": null,
      "metadata": {
        "jupyter": {
          "source_hidden": false,
          "outputs_hidden": false
        },
        "nteract": {
          "transient": {
            "deleting": false
          }
        },
        "gather": {
          "logged": 1681486437077
        }
      }
    },
    {
      "cell_type": "code",
      "source": [
        "client = mlflow.tracking.MlflowClient()\n",
        "client.list_artifacts(run_id=run.info.run_id)"
      ],
      "outputs": [],
      "execution_count": null,
      "metadata": {
        "jupyter": {
          "source_hidden": false,
          "outputs_hidden": false
        },
        "nteract": {
          "transient": {
            "deleting": false
          }
        },
        "gather": {
          "logged": 1681487300040
        }
      }
    },
    {
      "cell_type": "markdown",
      "source": [
        "# Register Model"
      ],
      "metadata": {
        "nteract": {
          "transient": {
            "deleting": false
          }
        }
      }
    },
    {
      "cell_type": "code",
      "source": [
        "import os\n",
        "mlflow.sklearn.save_model(model, \"./maint\")\n",
        "model_local_path = os.path.abspath(\"./maint\")\n",
        "mlflow.register_model(f\"file://{model_local_path}\", \"maint-model\")"
      ],
      "outputs": [],
      "execution_count": null,
      "metadata": {
        "jupyter": {
          "source_hidden": false,
          "outputs_hidden": false
        },
        "nteract": {
          "transient": {
            "deleting": false
          }
        },
        "gather": {
          "logged": 1681487501028
        }
      }
    },
    {
      "cell_type": "markdown",
      "source": [
        "# Deploy Model to snowflake"
      ],
      "metadata": {
        "nteract": {
          "transient": {
            "deleting": false
          }
        }
      }
    },
    {
      "cell_type": "code",
      "source": [
        "# create stage\n",
        "session.sql(\"CREATE OR REPLACE STAGE MFR.PUBLIC.maint_stage\").collect()"
      ],
      "outputs": [],
      "execution_count": null,
      "metadata": {
        "jupyter": {
          "source_hidden": false,
          "outputs_hidden": false
        },
        "nteract": {
          "transient": {
            "deleting": false
          }
        },
        "gather": {
          "logged": 1681493515997
        }
      }
    },
    {
      "cell_type": "code",
      "source": [
        "# push model to stage in snowflake\n",
        "# Model.get_model_path(model_name = 'mfr_model', version = 1, _workspace= ws)\n",
        "session.file.put('maint/model.pkl', \"MFR.PUBLIC.maint_stage\", auto_compress=False, overwrite=True)"
      ],
      "outputs": [],
      "execution_count": null,
      "metadata": {
        "jupyter": {
          "source_hidden": false,
          "outputs_hidden": false
        },
        "nteract": {
          "transient": {
            "deleting": false
          }
        },
        "gather": {
          "logged": 1681493519083
        }
      }
    },
    {
      "cell_type": "code",
      "source": [
        "session.clear_imports()\n",
        "session.clear_packages()\n",
        "\n",
        "import cachetools\n",
        "from snowflake.snowpark.types import PandasSeries, PandasDataFrame\n",
        "\n",
        "# Add trained model and Python packages from Snowflake Anaconda channel available on the server-side as UDF dependencies\n",
        "session.add_import('@maint_stage/model.pkl')\n",
        "session.add_packages('pandas','scikit-learn','cachetools')\n",
        "\n",
        "@cachetools.cached(cache={})\n",
        "def load_model(filename):\n",
        "    import joblib\n",
        "    import sys\n",
        "    import os\n",
        "    import pickle\n",
        "\n",
        "    IMPORT_DIRECTORY_NAME = \"snowflake_import_directory\"\n",
        "    import_dir = sys._xoptions[IMPORT_DIRECTORY_NAME]\n",
        "\n",
        "    if import_dir:\n",
        "        model_file = import_dir + filename\n",
        "        with open(model_file,'rb') as f:\n",
        "            model = pickle.load(f)\n",
        "            return model\n",
        "\n",
        "@udf(name='predict_failure',session=session,replace=True,is_permanent=True,stage_location='@maint_stage')\n",
        "def predict_failure(df: PandasDataFrame[int, int, int, int, int, int]) -> PandasSeries[float]:\n",
        "    import sklearn\n",
        "    import pandas as pd\n",
        "    df.columns = ['AIR_TEMPERATURE_K', 'PROCESS_TEMPERATURE', 'ROTATIONAL_SPEED_RPM','TORQUE_NM','TOOL_WEAR_MIN','HUMIDITY_RELATIVE_AVG']\n",
        "    model = load_model('model.pkl')\n",
        "    return model.predict_proba(df)[:,1]"
      ],
      "outputs": [],
      "execution_count": null,
      "metadata": {
        "jupyter": {
          "source_hidden": false,
          "outputs_hidden": false
        },
        "nteract": {
          "transient": {
            "deleting": false
          }
        },
        "gather": {
          "logged": 1681494642994
        }
      }
    },
    {
      "cell_type": "code",
      "source": [],
      "outputs": [],
      "execution_count": null,
      "metadata": {
        "jupyter": {
          "source_hidden": false,
          "outputs_hidden": false
        },
        "nteract": {
          "transient": {
            "deleting": false
          }
        }
      }
    }
  ],
  "metadata": {
    "kernelspec": {
      "name": "my_env",
      "language": "python",
      "display_name": "my_env"
    },
    "language_info": {
      "name": "python",
      "version": "3.8.16",
      "mimetype": "text/x-python",
      "codemirror_mode": {
        "name": "ipython",
        "version": 3
      },
      "pygments_lexer": "ipython3",
      "nbconvert_exporter": "python",
      "file_extension": ".py"
    },
    "kernel_info": {
      "name": "my_env"
    },
    "microsoft": {
      "host": {
        "AzureML": {
          "notebookHasBeenCompleted": true
        }
      },
      "ms_spell_check": {
        "ms_spell_check_language": "en"
      }
    },
    "nteract": {
      "version": "nteract-front-end@1.0.0"
    }
  },
  "nbformat": 4,
  "nbformat_minor": 2
}